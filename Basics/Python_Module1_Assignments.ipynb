{
 "cells": [
  {
   "cell_type": "markdown",
   "metadata": {},
   "source": [
    "# Problem Statement:\n",
    "You work in XYZ Corporation as a Data Analyst. Your company has told you to work with the IfElse Conditions.\n",
    "Tasks to be performed:\n",
    "1. Input the values of a and b as 10 and 20 respectively. Now check if a is greater or b is greater\n",
    "using if condition. Think about all the edge cases, and print the statements accordingly."
   ]
  },
  {
   "cell_type": "code",
   "execution_count": 14,
   "metadata": {},
   "outputs": [
    {
     "name": "stdout",
     "output_type": "stream",
     "text": [
      "b is grater than b\n"
     ]
    }
   ],
   "source": [
    "a = 10\n",
    "b =102\n",
    "if(a>b):\n",
    "    print(\"a is greater than b\")\n",
    "elif(b>a):\n",
    "    print(\"b is grater than a\")\n",
    "else:\n",
    "    print(\"a and b are equal\")"
   ]
  },
  {
   "cell_type": "markdown",
   "metadata": {},
   "source": [
    "# Problem Statement:\n",
    "You work in XYZ Corporation as a Data Analyst. Your company has told you to work with the IfElse Conditions.\n",
    "Tasks to be performed:\n",
    "1. Take three user inputs and print the greatest number from those inputs using if-else\n",
    "condition. Edge cases if any, should also be handled.\n"
   ]
  },
  {
   "cell_type": "code",
   "execution_count": 5,
   "metadata": {},
   "outputs": [
    {
     "name": "stdout",
     "output_type": "stream",
     "text": [
      "Enter 1st number1\n",
      "Enter 2nd number23\n",
      "Enter 3rd number23\n"
     ]
    }
   ],
   "source": [
    "num1 = int(input(\"Enter 1st number\"))\n",
    "num2 = int(input(\"Enter 2nd number\"))\n",
    "num3 = int(input(\"Enter 3rd number\"))"
   ]
  },
  {
   "cell_type": "code",
   "execution_count": 6,
   "metadata": {},
   "outputs": [
    {
     "name": "stdout",
     "output_type": "stream",
     "text": [
      "num2 and num3 both are having greatest value\n"
     ]
    }
   ],
   "source": [
    "if(num1 == num2 and num1 == num3):\n",
    "    print(\"All numbers are equal.\")\n",
    "elif(num1 >= num2 and num1 >= num3):\n",
    "    if(num1!= num2 and num1 != num3):\n",
    "        print(\"num1 is greatest\")\n",
    "    elif(num1== num2):\n",
    "        print(\"num1 and num2 both are having a greatest value\")\n",
    "    else:\n",
    "        print(\"num1 and num3 both are having a greatest value\")\n",
    "elif(num2>=num1 and num2>=num3):\n",
    "    if(num2!=num1 and num2!=num3):\n",
    "        print('num2 is greatest')\n",
    "    elif(num2== num1):\n",
    "        print('num2 and num1 both are having greatest value')\n",
    "    else:\n",
    "        print('num2 and num3 both are having greatest value')\n",
    "elif(num3>=num1 and num3>=num2):\n",
    "    if(num3!=num1 and num3!=num2):\n",
    "        print('num3 is greatest')\n",
    "    elif(num3== num1):\n",
    "        print('num3 and num1 both are having greatest value')\n",
    "    else:\n",
    "        print('num3 and num2 both are having greatest value')"
   ]
  },
  {
   "cell_type": "markdown",
   "metadata": {},
   "source": [
    "# Problem Statement:\n",
    "You work in XYZ Corporation as a Data Analyst. Your company has told you to work with the IfElse Conditions.\n",
    "Tasks to be performed:\n",
    "1. Print the numbers from 1 to 10 using while loop."
   ]
  },
  {
   "cell_type": "code",
   "execution_count": 8,
   "metadata": {},
   "outputs": [
    {
     "name": "stdout",
     "output_type": "stream",
     "text": [
      "1\n",
      "2\n",
      "3\n",
      "4\n",
      "5\n",
      "6\n",
      "7\n",
      "8\n",
      "9\n",
      "10\n"
     ]
    }
   ],
   "source": [
    "num = 0\n",
    "while(num<10):\n",
    "    num = num + 1\n",
    "    print(num)"
   ]
  },
  {
   "cell_type": "markdown",
   "metadata": {},
   "source": [
    "# Problem Statement:\n",
    "You work in XYZ Corporation as a Data Analyst. Your company has told you to work with the IfElse Conditions.\n",
    "Tasks to be performed:\n",
    "Create a list that is having 10,23,4,26,4,75,24,54 values and with the help of while loop, fetch\n",
    "the even numbers and print the numbers."
   ]
  },
  {
   "cell_type": "code",
   "execution_count": 10,
   "metadata": {},
   "outputs": [
    {
     "name": "stdout",
     "output_type": "stream",
     "text": [
      "[10, 4, 26, 4, 24, 54]\n"
     ]
    }
   ],
   "source": [
    "my_list = [10,23,4,26,4,75,24,54]\n",
    "res_list = []\n",
    "i = 0\n",
    "while (i < len(my_list)):\n",
    "    if(my_list[i]%2==0):\n",
    "      res_list.append(my_list[i])\n",
    "    i = i + 1\n",
    "print(res_list)"
   ]
  },
  {
   "cell_type": "markdown",
   "metadata": {},
   "source": [
    "# Problem Statement:\n",
    "Consider yourself to be Sam who is a data scientist. He has been invited as a guest lecturer at a college\n",
    "to take an introductory session on Python.\n",
    "Tasks to be performed:\n",
    "1. Create a list containing squares of numbers from 1 to 10 (HINT: use List Comprehension).\n",
    "2. Write a Function to check if year number is a leap year.\n",
    "3. Write a Function to take an array and return another array that contains the members of first\n",
    "array that are even.\n",
    "4. Write a Function that takes 2 arrays and prints the members of first array that are present of\n",
    "second array. (HINT: use Membership Comprehension)"
   ]
  },
  {
   "cell_type": "code",
   "execution_count": 19,
   "metadata": {},
   "outputs": [
    {
     "data": {
      "text/plain": [
       "[1, 4, 9, 16, 25, 36, 49, 64, 81, 100]"
      ]
     },
     "execution_count": 19,
     "metadata": {},
     "output_type": "execute_result"
    }
   ],
   "source": [
    "#1. Create a list containing squares of numbers from 1 to 10 (HINT: use List Comprehension).\n",
    "my_list = [1,2,3,4,5,6,7,8,9,10]\n",
    "newlist = [x*x for x in my_list]\n",
    "newlist"
   ]
  },
  {
   "cell_type": "code",
   "execution_count": 23,
   "metadata": {},
   "outputs": [
    {
     "name": "stdout",
     "output_type": "stream",
     "text": [
      "Enter a year1998\n",
      "1998 is not a leap year\n"
     ]
    }
   ],
   "source": [
    "#2. Write a Function to check if year number is a leap year.\n",
    "def check_leap():\n",
    "    yr = int(input(\"Enter a year\"))\n",
    "    if(yr%4==0):\n",
    "        print(yr,\" is a leap year.\")\n",
    "    else:\n",
    "        print(yr,\"is not a leap year\")\n",
    "        \n",
    "check_leap()"
   ]
  },
  {
   "cell_type": "code",
   "execution_count": 35,
   "metadata": {},
   "outputs": [
    {
     "name": "stdout",
     "output_type": "stream",
     "text": [
      "[12, 6, 10, 8, 22]\n"
     ]
    }
   ],
   "source": [
    "#3. Write a Function to take an array and return another array that contains the members of first array that are even.\n",
    " \n",
    "    \n",
    "def check_even(my_list):\n",
    "    res_list=[]\n",
    "    for i in my_list:\n",
    "        if(i%2==0):\n",
    "            res_list.append(i)\n",
    "    print(res_list)\n",
    "check_even([12,21,37,43,5, 6, 10, 8, 22])  "
   ]
  },
  {
   "cell_type": "code",
   "execution_count": 37,
   "metadata": {},
   "outputs": [
    {
     "name": "stdout",
     "output_type": "stream",
     "text": [
      "[6, 1]\n"
     ]
    }
   ],
   "source": [
    "#4. Write a Function that takes 2 arrays and prints the members of first array that are present of second array. \n",
    "#(HINT: use Membership Comprehension)\n",
    "\n",
    "def common_elements(l1,l2):\n",
    "    arr=[]\n",
    "    for i in l1:\n",
    "        if(i in l2):\n",
    "            arr.append(i)\n",
    "    print(arr)\n",
    "    \n",
    "common_elements([6,23,1],[34,1,6])"
   ]
  },
  {
   "cell_type": "code",
   "execution_count": null,
   "metadata": {},
   "outputs": [],
   "source": []
  }
 ],
 "metadata": {
  "kernelspec": {
   "display_name": "Python 3",
   "language": "python",
   "name": "python3"
  },
  "language_info": {
   "codemirror_mode": {
    "name": "ipython",
    "version": 3
   },
   "file_extension": ".py",
   "mimetype": "text/x-python",
   "name": "python",
   "nbconvert_exporter": "python",
   "pygments_lexer": "ipython3",
   "version": "3.8.3"
  }
 },
 "nbformat": 4,
 "nbformat_minor": 4
}
