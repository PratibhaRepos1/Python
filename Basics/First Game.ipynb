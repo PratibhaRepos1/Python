{
 "cells": [
  {
   "cell_type": "markdown",
   "metadata": {},
   "source": [
    "# First Game in Python"
   ]
  },
  {
   "cell_type": "code",
   "execution_count": 2,
   "metadata": {},
   "outputs": [
    {
     "name": "stdout",
     "output_type": "stream",
     "text": [
      "Welcome to my first game!\n",
      "What is your name? Daksh\n",
      "What is your age? 19\n",
      "Hello Daksh you are 19 years old.\n",
      "You are old enough!\n",
      "Do you want to play?yes\n",
      "You are starting with  10 health\n",
      "Lets play!\n",
      "First choice...Left or Right (left/right)? left\n",
      "Nice, you follow the path and reach a lake...Do you swim across or go around(across/around)? across\n",
      "You managed the to get across, but were bit by a fish and lost 5 health\n",
      "You notice a house and a river. Which do you go to(river/house)? house\n",
      "Go to the house and are greted by owner...He doesn't like you and you lose 5 health\n",
      "You now have 0 health and you lost the game...\n"
     ]
    }
   ],
   "source": [
    "print(\"Welcome to my first game!\")\n",
    "\n",
    "name = input(\"What is your name? \")\n",
    "\n",
    "age =int(input(\"What is your age? \"))\n",
    "\n",
    "print(\"Hello\", name, \"you are\", age, \"years old.\")\n",
    "\n",
    "health = 10\n",
    "\n",
    "\n",
    "if age >= 18:\n",
    "    print(\"You are old enough!\")\n",
    "    \n",
    "    wants_to_play = input(\"Do you want to play?\")\n",
    "    if wants_to_play.upper() == \"YES\":\n",
    "        print(\"You are starting with \", health, \"health\")\n",
    "        print(\"Lets play!\")\n",
    "        left_or_right = input(\"First choice...Left or Right (left/right)? \")\n",
    "        if left_or_right.upper() == \"LEFT\":\n",
    "            ans = input(\"Nice, you follow the path and reach a lake...Do you swim across or go around(across/around)? \")\n",
    "            if ans.upper() == \"AROUND\":\n",
    "                print(\"You went around and reached to the other side of the lake.\")\n",
    "            elif ans.upper() == \"ACROSS\":\n",
    "                print(\"You managed the to get across, but were bit by a fish and lost 5 health\")\n",
    "                health -= 5\n",
    "                \n",
    "                ans = input(\"You notice a house and a river. Which do you go to(river/house)? \")\n",
    "                \n",
    "                if ans.upper() == \"HOUSE\":\n",
    "                    print(\"Go to the house and are greted by owner...He doesn't like you and you lose 5 health\")\n",
    "                    \n",
    "                    health -= 5\n",
    "                    \n",
    "                    if(health <= 0):\n",
    "                        print(\"You now have 0 health and you lost the game...\")\n",
    "                        \n",
    "                    else:\n",
    "                        print(\"You have survived and you win!\")\n",
    "                else:\n",
    "                    print(\"You fell in the river and lost...\")\n",
    "                    \n",
    "            else:\n",
    "                print(\"You lost...\")\n",
    "            \n",
    "                \n",
    "            \n",
    "        else:\n",
    "            print(\"You Fell down and lost...\")\n",
    "        \n",
    "# elif: age >= 14\n",
    "#     print(\"You are play with supervision\")\n",
    "else:\n",
    "    print(\"You are not old enough to play...!!!\")"
   ]
  },
  {
   "cell_type": "code",
   "execution_count": null,
   "metadata": {},
   "outputs": [],
   "source": []
  }
 ],
 "metadata": {
  "kernelspec": {
   "display_name": "Python 3",
   "language": "python",
   "name": "python3"
  },
  "language_info": {
   "codemirror_mode": {
    "name": "ipython",
    "version": 3
   },
   "file_extension": ".py",
   "mimetype": "text/x-python",
   "name": "python",
   "nbconvert_exporter": "python",
   "pygments_lexer": "ipython3",
   "version": "3.8.3"
  }
 },
 "nbformat": 4,
 "nbformat_minor": 4
}
