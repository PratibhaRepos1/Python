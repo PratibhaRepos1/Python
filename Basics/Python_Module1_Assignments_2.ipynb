{
 "cells": [
  {
   "cell_type": "markdown",
   "metadata": {},
   "source": [
    "# Assignment 2\n",
    "\n",
    "# Problem Statement:\n",
    "Consider yourself to be Sam who is a data scientist. He has been invited as a guest lecturer at a college\n",
    "to take an introductory session on Python.\n",
    "Tasks to be performed:\n",
    "1. Create 1st tuple with values -> (10,20,30), 2nd tuple with values -> (40,50,60).\n",
    "a. Concatenate the two tuples and store it in “t_combine”\n",
    "b. Repeat the elements of “t_combine” 3 times\n",
    "c. Access the 3rd element from “t_combine”\n",
    "d. Access the first three elements from “t_combine”\n",
    "e. Access the last three elements from “t_combine”\n",
    "2. Create a list ‘my_list’ with these elements:\n",
    "a. First element is a tuple with values 1,2,3\n",
    "b. Second element is a tuple with values “a”,”b”,”c”\n",
    "c. Third element is a tuple with values True,False\n",
    "3. Append a new tuple – (1,’a’,True) to ‘my_list’\n",
    "a. Append a new list – *“sparta”,123+ to my_list\n",
    "4. Create a dictionary ‘fruit’ where:\n",
    "a. The first key is ‘Fruit’ and the values are (“Apple”,”Banana”,”Mango”,”Guava”)\n",
    "b. The second key is ‘Cost’ and the values are (85,54,120,70)\n",
    "c. Extract all the keys from ‘fruit’\n",
    "d. Extract all the values from ‘fruit’\n",
    "5. Crete a set named ‘my_set’ with values (1,1,”a”,”a”,True,True) and print the result "
   ]
  },
  {
   "cell_type": "code",
   "execution_count": 8,
   "metadata": {},
   "outputs": [
    {
     "data": {
      "text/plain": [
       "(10, 20, 30, 40, 50, 60)"
      ]
     },
     "execution_count": 8,
     "metadata": {},
     "output_type": "execute_result"
    }
   ],
   "source": [
    "'''Create 1st tuple with values -> (10,20,30), 2nd tuple with values -> (40,50,60).\n",
    "a. Concatenate the two tuples and store it in “t_combine” \n",
    "b. Repeat the elements of “t_combine” 3 times\n",
    "c. Access the 3rd element from “t_combine” \n",
    "d. Access the first three elements from “t_combine”\n",
    "e. Access the last three elements from “t_combine”\n",
    "'''\n",
    "\n",
    "#a. Concatenate the two tuples and store it in “t_combine”\n",
    "firstTuple = (10,20,30)\n",
    "secondTuple = (40,50,60)\n",
    "t_combine = firstTuple + secondTuple\n",
    "t_combine\n"
   ]
  },
  {
   "cell_type": "code",
   "execution_count": 9,
   "metadata": {},
   "outputs": [
    {
     "data": {
      "text/plain": [
       "((10, 20, 30, 40, 50, 60), (10, 20, 30, 40, 50, 60), (10, 20, 30, 40, 50, 60))"
      ]
     },
     "execution_count": 9,
     "metadata": {},
     "output_type": "execute_result"
    }
   ],
   "source": [
    "#b. Repeat the elements of “t_combine” 3 times\n",
    "t_combine = ((t_combine,)*3)\n",
    "t_combine"
   ]
  },
  {
   "cell_type": "code",
   "execution_count": 11,
   "metadata": {},
   "outputs": [
    {
     "data": {
      "text/plain": [
       "30"
      ]
     },
     "execution_count": 11,
     "metadata": {},
     "output_type": "execute_result"
    }
   ],
   "source": [
    "#c. Access the 3rd element from “t_combine” \n",
    "t_combine[2][2]"
   ]
  },
  {
   "cell_type": "code",
   "execution_count": 14,
   "metadata": {},
   "outputs": [
    {
     "data": {
      "text/plain": [
       "(10, 20, 30)"
      ]
     },
     "execution_count": 14,
     "metadata": {},
     "output_type": "execute_result"
    }
   ],
   "source": [
    "#d. Access the first three elements from “t_combine”\n",
    "t_combine[0][:3]"
   ]
  },
  {
   "cell_type": "code",
   "execution_count": 18,
   "metadata": {},
   "outputs": [
    {
     "data": {
      "text/plain": [
       "(40, 50, 60)"
      ]
     },
     "execution_count": 18,
     "metadata": {},
     "output_type": "execute_result"
    }
   ],
   "source": [
    "#e. Access the last three elements from “t_combine”\n",
    "t_combine[2][-3:]"
   ]
  },
  {
   "cell_type": "code",
   "execution_count": 22,
   "metadata": {},
   "outputs": [],
   "source": [
    "# 2. Create a list ‘my_list’ with these elements:\n",
    "\n",
    "my_list=[]\n"
   ]
  },
  {
   "cell_type": "code",
   "execution_count": 23,
   "metadata": {},
   "outputs": [
    {
     "data": {
      "text/plain": [
       "[(1, 2, 3)]"
      ]
     },
     "execution_count": 23,
     "metadata": {},
     "output_type": "execute_result"
    }
   ],
   "source": [
    "#a. First element is a tuple with values 1,2,3\n",
    "my_list = [(1,2,3)]\n",
    "my_list"
   ]
  },
  {
   "cell_type": "code",
   "execution_count": 26,
   "metadata": {},
   "outputs": [
    {
     "data": {
      "text/plain": [
       "[(1, 2, 3), ('a', 'b', 'c')]"
      ]
     },
     "execution_count": 26,
     "metadata": {},
     "output_type": "execute_result"
    }
   ],
   "source": [
    "#b. Second element is a tuple with values “a”,”b”,”c”\n",
    "my_list.append(('a','b','c'))\n",
    "my_list"
   ]
  },
  {
   "cell_type": "code",
   "execution_count": 27,
   "metadata": {},
   "outputs": [
    {
     "data": {
      "text/plain": [
       "[(1, 2, 3), ('a', 'b', 'c'), (True, False)]"
      ]
     },
     "execution_count": 27,
     "metadata": {},
     "output_type": "execute_result"
    }
   ],
   "source": [
    "#c. Third element is a tuple with values True,False\n",
    "my_list.append((True,False))\n",
    "my_list"
   ]
  },
  {
   "cell_type": "code",
   "execution_count": 28,
   "metadata": {},
   "outputs": [
    {
     "data": {
      "text/plain": [
       "[(1, 2, 3), ('a', 'b', 'c'), (True, False), (1, 'a', True)]"
      ]
     },
     "execution_count": 28,
     "metadata": {},
     "output_type": "execute_result"
    }
   ],
   "source": [
    "#3. Append a new tuple – (1,’a’,True) to ‘my_list’\n",
    "new_tuple = (1,'a', True)\n",
    "my_list.append(new_tuple)\n",
    "my_list\n",
    "#a. Append a new list – *“sparta”,123+ to my_list"
   ]
  },
  {
   "cell_type": "code",
   "execution_count": 32,
   "metadata": {},
   "outputs": [
    {
     "data": {
      "text/plain": [
       "[(1, 2, 3), ('a', 'b', 'c'), (True, False), (1, 'a', True), ['*\"sparta\",123+']]"
      ]
     },
     "execution_count": 32,
     "metadata": {},
     "output_type": "execute_result"
    }
   ],
   "source": [
    "#a. Append a new list – *“sparta”,123+ to my_list\n",
    "new_list = ['*\"sparta\",123+']\n",
    "my_list.append(new_list)\n",
    "my_list"
   ]
  },
  {
   "cell_type": "code",
   "execution_count": 37,
   "metadata": {},
   "outputs": [
    {
     "name": "stdout",
     "output_type": "stream",
     "text": [
      "{'Fruit': ('Apple', 'Banana', 'Mango', 'Guava'), 'Cost': (85, 54, 120, 70)}\n"
     ]
    }
   ],
   "source": [
    "#4. Create a dictionary ‘fruit’ where:\n",
    "#a. The first key is ‘Fruit’ and the values are (“Apple”,”Banana”,”Mango”,”Guava”)\n",
    "#b. The second key is ‘Cost’ and the values are (85,54,120,70)\n",
    "\n",
    "fruit = {\"Fruit\":('Apple','Banana','Mango','Guava'), \"Cost\":(85,54,120,70)}\n",
    "print(fruit)\n",
    "\n",
    "#d. Extract all the values from ‘fruit’\n",
    "#5. Crete a set named ‘my_set’ with values (1,1,”a”,”a”,True,True) and print the result "
   ]
  },
  {
   "cell_type": "code",
   "execution_count": 39,
   "metadata": {},
   "outputs": [
    {
     "data": {
      "text/plain": [
       "('Apple', 'Banana', 'Mango', 'Guava')"
      ]
     },
     "execution_count": 39,
     "metadata": {},
     "output_type": "execute_result"
    }
   ],
   "source": [
    "#c. Extract all the keys from ‘fruit’\n",
    "fruit['Fruit']"
   ]
  },
  {
   "cell_type": "code",
   "execution_count": 40,
   "metadata": {},
   "outputs": [
    {
     "data": {
      "text/plain": [
       "dict_values([('Apple', 'Banana', 'Mango', 'Guava'), (85, 54, 120, 70)])"
      ]
     },
     "execution_count": 40,
     "metadata": {},
     "output_type": "execute_result"
    }
   ],
   "source": [
    "#d. Extract all the values from ‘fruit’\n",
    "fruit.values()"
   ]
  },
  {
   "cell_type": "code",
   "execution_count": 43,
   "metadata": {},
   "outputs": [
    {
     "name": "stdout",
     "output_type": "stream",
     "text": [
      "{1, 'a'}\n"
     ]
    }
   ],
   "source": [
    "#5. Crete a set named ‘my_set’ with values (1,1,”a”,”a”,True,True) and print the result \n",
    "my_set = {1,1,\"a\",\"a\",True,True}\n",
    "print(my_set)"
   ]
  },
  {
   "cell_type": "code",
   "execution_count": null,
   "metadata": {},
   "outputs": [],
   "source": []
  }
 ],
 "metadata": {
  "kernelspec": {
   "display_name": "Python 3",
   "language": "python",
   "name": "python3"
  },
  "language_info": {
   "codemirror_mode": {
    "name": "ipython",
    "version": 3
   },
   "file_extension": ".py",
   "mimetype": "text/x-python",
   "name": "python",
   "nbconvert_exporter": "python",
   "pygments_lexer": "ipython3",
   "version": "3.8.3"
  }
 },
 "nbformat": 4,
 "nbformat_minor": 4
}
